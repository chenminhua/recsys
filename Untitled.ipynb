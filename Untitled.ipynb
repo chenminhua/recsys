{
 "cells": [
  {
   "cell_type": "code",
   "execution_count": 6,
   "metadata": {},
   "outputs": [
    {
     "name": "stderr",
     "output_type": "stream",
     "text": [
      "/home/chenmh/anaconda3/envs/tensorflow/lib/python3.7/site-packages/ipykernel_launcher.py:8: ParserWarning: Falling back to the 'python' engine because the 'c' engine does not support regex separators (separators > 1 char and different from '\\s+' are interpreted as regex); you can avoid this warning by specifying engine='python'.\n",
      "  \n"
     ]
    }
   ],
   "source": [
    "import pandas as pd\n",
    "\n",
    "\n",
    "# movierating_df = pd.read_csv(\"./data/ml-25m/ratings.csv\")[['userId', 'movieId', 'rating']]\n",
    "movierating_df = pd.read_csv('./data/ml-1m/ratings.dat',\n",
    "                            sep='::',\n",
    "                            usecols=[0,1,2],\n",
    "                            names=['userId', 'movieId', 'rating'])\n"
   ]
  },
  {
   "cell_type": "code",
   "execution_count": 7,
   "metadata": {},
   "outputs": [
    {
     "name": "stdout",
     "output_type": "stream",
     "text": [
      "<class 'pandas.core.frame.DataFrame'>\n",
      "RangeIndex: 1000209 entries, 0 to 1000208\n",
      "Data columns (total 3 columns):\n",
      "userId     1000209 non-null int64\n",
      "movieId    1000209 non-null int64\n",
      "rating     1000209 non-null int64\n",
      "dtypes: int64(3)\n",
      "memory usage: 22.9 MB\n"
     ]
    }
   ],
   "source": [
    "movierating_df.info()"
   ]
  },
  {
   "cell_type": "code",
   "execution_count": 8,
   "metadata": {},
   "outputs": [
    {
     "name": "stdout",
     "output_type": "stream",
     "text": [
      "<class 'pandas.core.frame.DataFrame'>\n",
      "RangeIndex: 1000209 entries, 0 to 1000208\n",
      "Data columns (total 3 columns):\n",
      "userId     1000209 non-null int64\n",
      "movieId    1000209 non-null int64\n",
      "rating     1000209 non-null int64\n",
      "dtypes: int64(3)\n",
      "memory usage: 22.9 MB\n"
     ]
    }
   ],
   "source": [
    "movierating_df.info()"
   ]
  },
  {
   "cell_type": "code",
   "execution_count": 9,
   "metadata": {},
   "outputs": [
    {
     "name": "stdout",
     "output_type": "stream",
     "text": [
      "user数量 6040\n"
     ]
    }
   ],
   "source": [
    "# 倒排，记录每个用户有买哪些item\n",
    "user_items_dict = dict()\n",
    "for index, row in movierating_df.iterrows():\n",
    "    userId, movieId, rating = row\n",
    "    user_items_dict.setdefault(userId, set())\n",
    "    user_items_dict[userId].add(movieId)\n",
    "print(\"user数量 {}\".format(len(user_items_dict)))"
   ]
  },
  {
   "cell_type": "code",
   "execution_count": 10,
   "metadata": {},
   "outputs": [],
   "source": [
    "item_users_dict = dict()\n",
    "for userId, movieIds in user_items_dict.items():\n",
    "    for movieId in movieIds:\n",
    "        item_users_dict.setdefault(movieId, set())\n",
    "        item_users_dict[movieId].add(userId)"
   ]
  },
  {
   "cell_type": "code",
   "execution_count": 11,
   "metadata": {},
   "outputs": [
    {
     "name": "stdout",
     "output_type": "stream",
     "text": [
      "movie数量 3706\n"
     ]
    }
   ],
   "source": [
    "print(\"movie数量 {}\".format(len(item_users_dict)))"
   ]
  },
  {
   "cell_type": "code",
   "execution_count": 13,
   "metadata": {},
   "outputs": [],
   "source": [
    "# 建立用户协同过滤矩阵\n",
    "from collections import defaultdict\n",
    "import math\n",
    "user_sim_matrix = dict()\n",
    "N = defaultdict(int)  # 记录用户购买商品数\n",
    "for movieId, users in item_users_dict.items():\n",
    "    for u in users:\n",
    "        N[u] += 1\n",
    "        for v in users:\n",
    "            if u == v:\n",
    "                continue\n",
    "            user_sim_matrix.setdefault(u, defaultdict(int))\n",
    "            user_sim_matrix[u][v] += 1\n",
    "\n",
    "# 计算相关度\n",
    "for u, related_users in user_sim_matrix.items():\n",
    "    for v, con_items_count in related_users.items():\n",
    "        user_sim_matrix[u][v] = con_items_count / math.sqrt(N[u] * N[v])"
   ]
  },
  {
   "cell_type": "code",
   "execution_count": 17,
   "metadata": {},
   "outputs": [
    {
     "data": {
      "text/plain": [
       "{2081: 1.849584410531771,\n",
       " 2078: 1.485035626083349,\n",
       " 593: 1.472533197331174,\n",
       " 2080: 1.1079844128827518,\n",
       " 2096: 1.1079844128827518}"
      ]
     },
     "execution_count": 17,
     "metadata": {},
     "output_type": "execute_result"
    }
   ],
   "source": [
    "from operator import itemgetter\n",
    "def recommend(user, N, K):\n",
    "    \"\"\"推荐\n",
    "        @param user:   用户\n",
    "        @param N:    推荐的商品个数\n",
    "        @param K:    查找最相似的用户个数\n",
    "        @return: 商品字典 {商品 : 相似性打分情况}\n",
    "    \"\"\"\n",
    "    related_items = user_items_dict.get(user, set)\n",
    "    recommmens = dict()\n",
    "    for v, sim in sorted(user_sim_matrix.get(user, dict).items(),\n",
    "                         key=itemgetter(1), reverse=True)[:K]:\n",
    "        for item in user_items_dict[v]:\n",
    "            if item in related_items:\n",
    "                continue\n",
    "            recommmens.setdefault(item, 0.)\n",
    "            recommmens[item] += sim\n",
    "\n",
    "    return dict(sorted(recommmens.items(), key=itemgetter(1), reverse=True)[: N])\n",
    "\n",
    "recommend(1, 5, 5)"
   ]
  },
  {
   "cell_type": "code",
   "execution_count": 18,
   "metadata": {},
   "outputs": [
    {
     "data": {
      "text/plain": [
       "{1: [2081, 2078, 593, 2080, 2096],\n",
       " 2: [316, 377, 608, 2763, 1573],\n",
       " 3: [2916, 592, 919, 2174, 2000]}"
      ]
     },
     "execution_count": 18,
     "metadata": {},
     "output_type": "execute_result"
    }
   ],
   "source": [
    "def recommend_users(users, N, K):\n",
    "    \"\"\"推荐测试集\n",
    "        @param users:    用户list\n",
    "        @param N:    推荐的商品个数\n",
    "        @param K:    查找最相似的用户个数\n",
    "        @return: 推荐字典 {用户 : 推荐的商品的list}\n",
    "    \"\"\"\n",
    "    recommends = dict()\n",
    "    for user in users:\n",
    "        user_recommends = list(recommend(user, N, K).keys())\n",
    "        recommends[user] = user_recommends\n",
    "\n",
    "    return recommends\n",
    "\n",
    "recommend_users([1,2,3], 5, 5)"
   ]
  },
  {
   "cell_type": "code",
   "execution_count": null,
   "metadata": {},
   "outputs": [],
   "source": []
  }
 ],
 "metadata": {
  "kernelspec": {
   "display_name": "Python 3",
   "language": "python",
   "name": "python3"
  },
  "language_info": {
   "codemirror_mode": {
    "name": "ipython",
    "version": 3
   },
   "file_extension": ".py",
   "mimetype": "text/x-python",
   "name": "python",
   "nbconvert_exporter": "python",
   "pygments_lexer": "ipython3",
   "version": "3.7.3"
  }
 },
 "nbformat": 4,
 "nbformat_minor": 2
}
